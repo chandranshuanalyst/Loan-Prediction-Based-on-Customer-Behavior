{
 "cells": [
  {
   "cell_type": "markdown",
   "id": "7ffc8f25",
   "metadata": {},
   "source": [
    "# IMPORTING LIBRARIES"
   ]
  },
  {
   "cell_type": "code",
   "execution_count": 1,
   "id": "33c60e90",
   "metadata": {},
   "outputs": [],
   "source": [
    "import numpy as np\n",
    "import pandas as pd\n",
    "import matplotlib.pyplot as plt\n",
    "%matplotlib inline\n",
    "import seaborn as sns"
   ]
  },
  {
   "cell_type": "code",
   "execution_count": 2,
   "id": "b0529b9c",
   "metadata": {},
   "outputs": [],
   "source": [
    "import warnings\n",
    "warnings.filterwarnings('ignore')"
   ]
  },
  {
   "cell_type": "code",
   "execution_count": 88,
   "id": "c95688d9",
   "metadata": {},
   "outputs": [],
   "source": [
    "import scipy.stats as stats\n",
    "from sklearn.preprocessing import StandardScaler,MinMaxScaler\n",
    "from sklearn.model_selection import train_test_split\n",
    "from imblearn.over_sampling import SMOTE\n",
    "from sklearn.linear_model import LogisticRegression\n",
    "from sklearn.metrics import confusion_matrix, precision_score, recall_score, f1_score, accuracy_score, roc_auc_score\n",
    "from sklearn.tree import DecisionTreeClassifier\n",
    "from sklearn.ensemble import RandomForestClassifier\n",
    "from sklearn.neighbors import KNeighborsClassifier\n",
    "from sklearn.cluster import KMeans\n",
    "from yellowbrick.cluster import KElbowVisualizer\n",
    "from xgboost import XGBClassifier"
   ]
  },
  {
   "cell_type": "markdown",
   "id": "6e035c93",
   "metadata": {},
   "source": [
    "# DATASETS"
   ]
  },
  {
   "cell_type": "code",
   "execution_count": 4,
   "id": "9a973bad",
   "metadata": {},
   "outputs": [],
   "source": [
    "df=pd.read_csv('C:/Users/chandranshu/Desktop/data cleaning datasets/Banking dataset/Training Data.csv')"
   ]
  },
  {
   "cell_type": "markdown",
   "id": "8843bb18",
   "metadata": {},
   "source": [
    "# DATA EXPLORATION"
   ]
  },
  {
   "cell_type": "code",
   "execution_count": 5,
   "id": "d55987ab",
   "metadata": {},
   "outputs": [
    {
     "data": {
      "text/plain": [
       "(252000, 13)"
      ]
     },
     "execution_count": 5,
     "metadata": {},
     "output_type": "execute_result"
    }
   ],
   "source": [
    "df.shape"
   ]
  },
  {
   "cell_type": "code",
   "execution_count": 6,
   "id": "e867f95b",
   "metadata": {
    "scrolled": true
   },
   "outputs": [
    {
     "name": "stdout",
     "output_type": "stream",
     "text": [
      "<class 'pandas.core.frame.DataFrame'>\n",
      "RangeIndex: 252000 entries, 0 to 251999\n",
      "Data columns (total 13 columns):\n",
      " #   Column             Non-Null Count   Dtype \n",
      "---  ------             --------------   ----- \n",
      " 0   Id                 252000 non-null  int64 \n",
      " 1   Income             252000 non-null  int64 \n",
      " 2   Age                252000 non-null  int64 \n",
      " 3   Experience         252000 non-null  int64 \n",
      " 4   Married/Single     252000 non-null  object\n",
      " 5   House_Ownership    252000 non-null  object\n",
      " 6   Car_Ownership      252000 non-null  object\n",
      " 7   Profession         252000 non-null  object\n",
      " 8   CITY               252000 non-null  object\n",
      " 9   STATE              252000 non-null  object\n",
      " 10  CURRENT_JOB_YRS    252000 non-null  int64 \n",
      " 11  CURRENT_HOUSE_YRS  252000 non-null  int64 \n",
      " 12  Risk_Flag          252000 non-null  int64 \n",
      "dtypes: int64(7), object(6)\n",
      "memory usage: 25.0+ MB\n"
     ]
    }
   ],
   "source": [
    "df.info()"
   ]
  },
  {
   "cell_type": "markdown",
   "id": "31da667e",
   "metadata": {},
   "source": [
    "So we see that there are no missing values in the data"
   ]
  },
  {
   "cell_type": "code",
   "execution_count": 7,
   "id": "c098a0c5",
   "metadata": {},
   "outputs": [],
   "source": [
    "dup=df.duplicated()"
   ]
  },
  {
   "cell_type": "code",
   "execution_count": 8,
   "id": "25894287",
   "metadata": {},
   "outputs": [
    {
     "data": {
      "text/plain": [
       "False    252000\n",
       "dtype: int64"
      ]
     },
     "execution_count": 8,
     "metadata": {},
     "output_type": "execute_result"
    }
   ],
   "source": [
    "dup.value_counts()"
   ]
  },
  {
   "cell_type": "markdown",
   "id": "2fac4d2a",
   "metadata": {},
   "source": [
    "So we see that there are no duplicate values as well."
   ]
  },
  {
   "cell_type": "markdown",
   "id": "21866c5c",
   "metadata": {},
   "source": [
    "# UNIVARIATE ANALYSIS"
   ]
  },
  {
   "cell_type": "code",
   "execution_count": 9,
   "id": "2e55cf45",
   "metadata": {},
   "outputs": [
    {
     "data": {
      "text/plain": [
       "single     226272\n",
       "married     25728\n",
       "Name: Married/Single, dtype: int64"
      ]
     },
     "execution_count": 9,
     "metadata": {},
     "output_type": "execute_result"
    }
   ],
   "source": [
    "df['Married/Single'].value_counts()"
   ]
  },
  {
   "cell_type": "code",
   "execution_count": 10,
   "id": "e7e70d8b",
   "metadata": {},
   "outputs": [
    {
     "data": {
      "text/plain": [
       "<AxesSubplot:xlabel='Married/Single', ylabel='count'>"
      ]
     },
     "execution_count": 10,
     "metadata": {},
     "output_type": "execute_result"
    },
    {
     "data": {
      "image/png": "[encoded data removed]",
      "text/plain": [
       "<Figure size 432x288 with 1 Axes>"
      ]
     },
     "metadata": {
      "needs_background": "light"
     },
     "output_type": "display_data"
    }
   ],
   "source": [
    "sns.countplot(x='Married/Single',data=df,hue='Risk_Flag')"
   ]
  },
  {
   "cell_type": "code",
   "execution_count": 11,
   "id": "d2289853",
   "metadata": {},
   "outputs": [
    {
     "data": {
      "text/plain": [
       "rented          231898\n",
       "owned            12918\n",
       "norent_noown      7184\n",
       "Name: House_Ownership, dtype: int64"
      ]
     },
     "execution_count": 11,
     "metadata": {},
     "output_type": "execute_result"
    }
   ],
   "source": [
    "df['House_Ownership'].value_counts()"
   ]
  },
  {
   "cell_type": "code",
   "execution_count": 12,
   "id": "eb27a948",
   "metadata": {},
   "outputs": [
    {
     "data": {
      "text/plain": [
       "<AxesSubplot:xlabel='House_Ownership', ylabel='count'>"
      ]
     },
     "execution_count": 12,
     "metadata": {},
     "output_type": "execute_result"
    },
    {
     "data": {
      "image/png": "[encoded data removed]",
      "text/plain": [
       "<Figure size 432x288 with 1 Axes>"
      ]
     },
     "metadata": {
      "needs_background": "light"
     },
     "output_type": "display_data"
    }
   ],
   "source": [
    "sns.countplot(x='House_Ownership',data=df,hue='Risk_Flag')"
   ]
  },
  {
   "cell_type": "code",
   "execution_count": 13,
   "id": "40cbe0bc",
   "metadata": {},
   "outputs": [
    {
     "data": {
      "text/plain": [
       "no     176000\n",
       "yes     76000\n",
       "Name: Car_Ownership, dtype: int64"
      ]
     },
     "execution_count": 13,
     "metadata": {},
     "output_type": "execute_result"
    }
   ],
   "source": [
    "df['Car_Ownership'].value_counts()"
   ]
  },
  {
   "cell_type": "code",
   "execution_count": 14,
   "id": "efd009d4",
   "metadata": {},
   "outputs": [
    {
     "data": {
      "text/plain": [
       "<AxesSubplot:xlabel='Car_Ownership', ylabel='count'>"
      ]
     },
     "execution_count": 14,
     "metadata": {},
     "output_type": "execute_result"
    },
    {
     "data": {
      "image/png": "[encoded data removed]",
      "text/plain": [
       "<Figure size 432x288 with 1 Axes>"
      ]
     },
     "metadata": {
      "needs_background": "light"
     },
     "output_type": "display_data"
    }
   ],
   "source": [
    "sns.countplot(x='Car_Ownership',data=df,hue='Risk_Flag')"
   ]
  },
  {
   "cell_type": "code",
   "execution_count": 15,
   "id": "b5edb63d",
   "metadata": {},
   "outputs": [
    {
     "data": {
      "text/plain": [
       "Physician                     5957\n",
       "Statistician                  5806\n",
       "Web_designer                  5397\n",
       "Psychologist                  5390\n",
       "Computer_hardware_engineer    5372\n",
       "Drafter                       5359\n",
       "Magistrate                    5357\n",
       "Fashion_Designer              5304\n",
       "Air_traffic_controller        5281\n",
       "Comedian                      5259\n",
       "Industrial_Engineer           5250\n",
       "Mechanical_engineer           5217\n",
       "Chemical_engineer             5205\n",
       "Technical_writer              5195\n",
       "Hotel_Manager                 5178\n",
       "Financial_Analyst             5167\n",
       "Graphic_Designer              5166\n",
       "Flight_attendant              5128\n",
       "Biomedical_Engineer           5127\n",
       "Secretary                     5061\n",
       "Software_Developer            5053\n",
       "Petroleum_Engineer            5041\n",
       "Police_officer                5035\n",
       "Computer_operator             4990\n",
       "Politician                    4944\n",
       "Microbiologist                4881\n",
       "Technician                    4864\n",
       "Artist                        4861\n",
       "Lawyer                        4818\n",
       "Consultant                    4808\n",
       "Dentist                       4782\n",
       "Scientist                     4781\n",
       "Surgeon                       4772\n",
       "Aviator                       4758\n",
       "Technology_specialist         4737\n",
       "Design_Engineer               4729\n",
       "Surveyor                      4714\n",
       "Geologist                     4672\n",
       "Analyst                       4668\n",
       "Army_officer                  4661\n",
       "Architect                     4657\n",
       "Chef                          4635\n",
       "Librarian                     4628\n",
       "Civil_engineer                4616\n",
       "Designer                      4598\n",
       "Economist                     4573\n",
       "Firefighter                   4507\n",
       "Chartered_Accountant          4493\n",
       "Civil_servant                 4413\n",
       "Official                      4087\n",
       "Engineer                      4048\n",
       "Name: Profession, dtype: int64"
      ]
     },
     "execution_count": 15,
     "metadata": {},
     "output_type": "execute_result"
    }
   ],
   "source": [
    "df['Profession'].value_counts()"
   ]
  },
  {
   "cell_type": "code",
   "execution_count": 16,
   "id": "3228ad94",
   "metadata": {},
   "outputs": [
    {
     "data": {
      "text/plain": [
       "0    221004\n",
       "1     30996\n",
       "Name: Risk_Flag, dtype: int64"
      ]
     },
     "execution_count": 16,
     "metadata": {},
     "output_type": "execute_result"
    }
   ],
   "source": [
    "df['Risk_Flag'].value_counts()"
   ]
  },
  {
   "cell_type": "markdown",
   "id": "a4d37252",
   "metadata": {},
   "source": [
    "So we see that the data is an imbalanced one."
   ]
  },
  {
   "cell_type": "code",
   "execution_count": 17,
   "id": "d621f6ef",
   "metadata": {},
   "outputs": [
    {
     "data": {
      "text/plain": [
       "<AxesSubplot:xlabel='Age', ylabel='Density'>"
      ]
     },
     "execution_count": 17,
     "metadata": {},
     "output_type": "execute_result"
    },
    {
     "data": {
      "image/png": "[encoded data removed]",
      "text/plain": [
       "<Figure size 432x288 with 1 Axes>"
      ]
     },
     "metadata": {
      "needs_background": "light"
     },
     "output_type": "display_data"
    }
   ],
   "source": [
    "sns.distplot(df['Age'])"
   ]
  },
  {
   "cell_type": "code",
   "execution_count": 18,
   "id": "4cf1357a",
   "metadata": {},
   "outputs": [
    {
     "data": {
      "text/plain": [
       "<AxesSubplot:xlabel='Income', ylabel='Density'>"
      ]
     },
     "execution_count": 18,
     "metadata": {},
     "output_type": "execute_result"
    },
    {
     "data": {
      "image/png": "[encoded data removed]",
      "text/plain": [
       "<Figure size 432x288 with 1 Axes>"
      ]
     },
     "metadata": {
      "needs_background": "light"
     },
     "output_type": "display_data"
    }
   ],
   "source": [
    "sns.distplot(df['Income'])"
   ]
  },
  {
   "cell_type": "code",
   "execution_count": 19,
   "id": "9dd35e72",
   "metadata": {},
   "outputs": [
    {
     "data": {
      "text/plain": [
       "<AxesSubplot:xlabel='Experience', ylabel='Density'>"
      ]
     },
     "execution_count": 19,
     "metadata": {},
     "output_type": "execute_result"
    },
    {
     "data": {
      "image/png": "[encoded data removed]",
      "text/plain": [
       "<Figure size 432x288 with 1 Axes>"
      ]
     },
     "metadata": {
      "needs_background": "light"
     },
     "output_type": "display_data"
    }
   ],
   "source": [
    "sns.distplot(df['Experience'])"
   ]
  },
  {
   "cell_type": "code",
   "execution_count": 20,
   "id": "928a3bff",
   "metadata": {},
   "outputs": [
    {
     "data": {
      "text/plain": [
       "<AxesSubplot:xlabel='CURRENT_JOB_YRS', ylabel='Density'>"
      ]
     },
     "execution_count": 20,
     "metadata": {},
     "output_type": "execute_result"
    },
    {
     "data": {
      "image/png": "[encoded data removed]",
      "text/plain": [
       "<Figure size 432x288 with 1 Axes>"
      ]
     },
     "metadata": {
      "needs_background": "light"
     },
     "output_type": "display_data"
    }
   ],
   "source": [
    "sns.distplot(df['CURRENT_JOB_YRS'])"
   ]
  },
  {
   "cell_type": "code",
   "execution_count": 21,
   "id": "1ff6a156",
   "metadata": {},
   "outputs": [
    {
     "data": {
      "text/plain": [
       "<AxesSubplot:xlabel='CURRENT_HOUSE_YRS', ylabel='Density'>"
      ]
     },
     "execution_count": 21,
     "metadata": {},
     "output_type": "execute_result"
    },
    {
     "data": {
      "image/png": "[encoded data removed]",
      "text/plain": [
       "<Figure size 432x288 with 1 Axes>"
      ]
     },
     "metadata": {
      "needs_background": "light"
     },
     "output_type": "display_data"
    }
   ],
   "source": [
    "sns.distplot(df['CURRENT_HOUSE_YRS'])"
   ]
  },
  {
   "cell_type": "markdown",
   "id": "711eaa52",
   "metadata": {},
   "source": [
    "# OBSERVATIONS:\n",
    "\n",
    "1)Age ,Experience and Income and uniformly distributed in the data.i.e. data contains people of ages 20 to 80 in uniformity\n",
    "and similar is case for experience and income\n",
    "\n",
    "2)We see that majority of data contain single people ,who stay in rented place and do not own a car\n",
    "\n",
    "3)We also see that the ratio of default of single/married,rented/other cases and car ownership are similar to the default rate present in the data.\n",
    "\n",
    "4)The target variable (Risk) is an unbalanced . i.e. data has majority 0's."
   ]
  },
  {
   "cell_type": "markdown",
   "id": "25088325",
   "metadata": {},
   "source": [
    "# BIVARIATE ANALYSIS"
   ]
  },
  {
   "cell_type": "code",
   "execution_count": 22,
   "id": "0b3b50e5",
   "metadata": {},
   "outputs": [
    {
     "data": {
      "image/png": "[encoded data removed]",
      "text/plain": [
       "<Figure size 432x288 with 2 Axes>"
      ]
     },
     "metadata": {
      "needs_background": "light"
     },
     "output_type": "display_data"
    }
   ],
   "source": [
    "sns.heatmap(df.corr(), annot=True);"
   ]
  },
  {
   "cell_type": "markdown",
   "id": "79d47cc5",
   "metadata": {},
   "source": [
    "We see that all variables have insignificant correlation except only Current job years and experience,so we drop Current job years"
   ]
  },
  {
   "cell_type": "markdown",
   "id": "a1e0a928",
   "metadata": {},
   "source": [
    "# FEATURE SELECTION"
   ]
  },
  {
   "cell_type": "markdown",
   "id": "a7f98ec5",
   "metadata": {},
   "source": [
    "Chi square test for independence of attributes"
   ]
  },
  {
   "cell_type": "code",
   "execution_count": 23,
   "id": "6a7f9ee7",
   "metadata": {},
   "outputs": [
    {
     "data": {
      "text/html": [
       "<div>\n",
       "<style scoped>\n",
       "    .dataframe tbody tr th:only-of-type {\n",
       "        vertical-align: middle;\n",
       "    }\n",
       "\n",
       "    .dataframe tbody tr th {\n",
       "        vertical-align: top;\n",
       "    }\n",
       "\n",
       "    .dataframe thead th {\n",
       "        text-align: right;\n",
       "    }\n",
       "</style>\n",
       "<table border=\"1\" class=\"dataframe\">\n",
       "  <thead>\n",
       "    <tr style=\"text-align: right;\">\n",
       "      <th>Risk_Flag</th>\n",
       "      <th>0</th>\n",
       "      <th>1</th>\n",
       "    </tr>\n",
       "    <tr>\n",
       "      <th>Married/Single</th>\n",
       "      <th></th>\n",
       "      <th></th>\n",
       "    </tr>\n",
       "  </thead>\n",
       "  <tbody>\n",
       "    <tr>\n",
       "      <th>married</th>\n",
       "      <td>23092</td>\n",
       "      <td>2636</td>\n",
       "    </tr>\n",
       "    <tr>\n",
       "      <th>single</th>\n",
       "      <td>197912</td>\n",
       "      <td>28360</td>\n",
       "    </tr>\n",
       "  </tbody>\n",
       "</table>\n",
       "</div>"
      ],
      "text/plain": [
       "Risk_Flag            0      1\n",
       "Married/Single               \n",
       "married          23092   2636\n",
       "single          197912  28360"
      ]
     },
     "execution_count": 23,
     "metadata": {},
     "output_type": "execute_result"
    }
   ],
   "source": [
    "crosstab = pd.crosstab(df['Married/Single'], df[\"Risk_Flag\"])\n",
    "crosstab"
   ]
  },
  {
   "cell_type": "code",
   "execution_count": 24,
   "id": "4d2ef1af",
   "metadata": {},
   "outputs": [
    {
     "data": {
      "text/plain": [
       "(111.89204667099783,\n",
       " 3.773053705715196e-26,\n",
       " 1,\n",
       " array([[ 22563.456,   3164.544],\n",
       "        [198440.544,  27831.456]]))"
      ]
     },
     "execution_count": 24,
     "metadata": {},
     "output_type": "execute_result"
    }
   ],
   "source": [
    "stats.chi2_contingency(crosstab)"
   ]
  },
  {
   "cell_type": "markdown",
   "id": "76a70045",
   "metadata": {},
   "source": [
    "Ho: The attributes are independent\n",
    "\n",
    "Ha: The attributes are dependent\n",
    "\n",
    "As the p value is 3.77e-26(<0.05),so we reject Ho. \n",
    "\n",
    "Thus we conclude that marriage and risk flag are dependent ."
   ]
  },
  {
   "cell_type": "code",
   "execution_count": 25,
   "id": "06fbb753",
   "metadata": {},
   "outputs": [
    {
     "data": {
      "text/html": [
       "<div>\n",
       "<style scoped>\n",
       "    .dataframe tbody tr th:only-of-type {\n",
       "        vertical-align: middle;\n",
       "    }\n",
       "\n",
       "    .dataframe tbody tr th {\n",
       "        vertical-align: top;\n",
       "    }\n",
       "\n",
       "    .dataframe thead th {\n",
       "        text-align: right;\n",
       "    }\n",
       "</style>\n",
       "<table border=\"1\" class=\"dataframe\">\n",
       "  <thead>\n",
       "    <tr style=\"text-align: right;\">\n",
       "      <th>Risk_Flag</th>\n",
       "      <th>0</th>\n",
       "      <th>1</th>\n",
       "    </tr>\n",
       "    <tr>\n",
       "      <th>House_Ownership</th>\n",
       "      <th></th>\n",
       "      <th></th>\n",
       "    </tr>\n",
       "  </thead>\n",
       "  <tbody>\n",
       "    <tr>\n",
       "      <th>norent_noown</th>\n",
       "      <td>6469</td>\n",
       "      <td>715</td>\n",
       "    </tr>\n",
       "    <tr>\n",
       "      <th>owned</th>\n",
       "      <td>11758</td>\n",
       "      <td>1160</td>\n",
       "    </tr>\n",
       "    <tr>\n",
       "      <th>rented</th>\n",
       "      <td>202777</td>\n",
       "      <td>29121</td>\n",
       "    </tr>\n",
       "  </tbody>\n",
       "</table>\n",
       "</div>"
      ],
      "text/plain": [
       "Risk_Flag             0      1\n",
       "House_Ownership               \n",
       "norent_noown       6469    715\n",
       "owned             11758   1160\n",
       "rented           202777  29121"
      ]
     },
     "execution_count": 25,
     "metadata": {},
     "output_type": "execute_result"
    }
   ],
   "source": [
    "crosstab = pd.crosstab(df['House_Ownership'], df['Risk_Flag'])\n",
    "crosstab"
   ]
  },
  {
   "cell_type": "code",
   "execution_count": 26,
   "id": "b29c526e",
   "metadata": {},
   "outputs": [
    {
     "data": {
      "text/plain": [
       "(182.98924138871385,\n",
       " 1.8381930028370595e-40,\n",
       " 2,\n",
       " array([[  6300.368,    883.632],\n",
       "        [ 11329.086,   1588.914],\n",
       "        [203374.546,  28523.454]]))"
      ]
     },
     "execution_count": 26,
     "metadata": {},
     "output_type": "execute_result"
    }
   ],
   "source": [
    "stats.chi2_contingency(crosstab)"
   ]
  },
  {
   "cell_type": "markdown",
   "id": "0371a88d",
   "metadata": {},
   "source": [
    "Ho: The attributes are independent\n",
    "\n",
    "Ha: The attributes are dependent\n",
    "\n",
    "As the p value is 1.84e-40(<0.05),so we reject Ho. \n",
    "\n",
    "Thus we conclude that House ownership and risk flag are dependent ."
   ]
  },
  {
   "cell_type": "code",
   "execution_count": 27,
   "id": "1a58220b",
   "metadata": {},
   "outputs": [
    {
     "data": {
      "text/html": [
       "<div>\n",
       "<style scoped>\n",
       "    .dataframe tbody tr th:only-of-type {\n",
       "        vertical-align: middle;\n",
       "    }\n",
       "\n",
       "    .dataframe tbody tr th {\n",
       "        vertical-align: top;\n",
       "    }\n",
       "\n",
       "    .dataframe thead th {\n",
       "        text-align: right;\n",
       "    }\n",
       "</style>\n",
       "<table border=\"1\" class=\"dataframe\">\n",
       "  <thead>\n",
       "    <tr style=\"text-align: right;\">\n",
       "      <th>Risk_Flag</th>\n",
       "      <th>0</th>\n",
       "      <th>1</th>\n",
       "    </tr>\n",
       "    <tr>\n",
       "      <th>Car_Ownership</th>\n",
       "      <th></th>\n",
       "      <th></th>\n",
       "    </tr>\n",
       "  </thead>\n",
       "  <tbody>\n",
       "    <tr>\n",
       "      <th>no</th>\n",
       "      <td>153439</td>\n",
       "      <td>22561</td>\n",
       "    </tr>\n",
       "    <tr>\n",
       "      <th>yes</th>\n",
       "      <td>67565</td>\n",
       "      <td>8435</td>\n",
       "    </tr>\n",
       "  </tbody>\n",
       "</table>\n",
       "</div>"
      ],
      "text/plain": [
       "Risk_Flag           0      1\n",
       "Car_Ownership               \n",
       "no             153439  22561\n",
       "yes             67565   8435"
      ]
     },
     "execution_count": 27,
     "metadata": {},
     "output_type": "execute_result"
    }
   ],
   "source": [
    "crosstab = pd.crosstab(df['Car_Ownership'], df['Risk_Flag'])\n",
    "crosstab"
   ]
  },
  {
   "cell_type": "code",
   "execution_count": 28,
   "id": "b6365657",
   "metadata": {},
   "outputs": [
    {
     "data": {
      "text/plain": [
       "(145.42374419378916,\n",
       " 1.7350853850183746e-33,\n",
       " 1,\n",
       " array([[154352.,  21648.],\n",
       "        [ 66652.,   9348.]]))"
      ]
     },
     "execution_count": 28,
     "metadata": {},
     "output_type": "execute_result"
    }
   ],
   "source": [
    "stats.chi2_contingency(crosstab)"
   ]
  },
  {
   "cell_type": "markdown",
   "id": "5575df14",
   "metadata": {},
   "source": [
    "Ho: The attributes are independent\n",
    "\n",
    "Ha: The attributes are dependent\n",
    "\n",
    "As the p value is 1.74e-33(<0.05),so we reject Ho. \n",
    "\n",
    "Thus we conclude that Car ownership and risk flag are dependent ."
   ]
  },
  {
   "cell_type": "code",
   "execution_count": 29,
   "id": "ad982c78",
   "metadata": {},
   "outputs": [
    {
     "data": {
      "text/plain": [
       "Ttest_indResult(statistic=10.950730879694023, pvalue=6.687623646851126e-28)"
      ]
     },
     "execution_count": 29,
     "metadata": {},
     "output_type": "execute_result"
    }
   ],
   "source": [
    "stats.ttest_ind(df['Age'][df['Risk_Flag'] == 0],df['Age'][df['Risk_Flag'] == 1])"
   ]
  },
  {
   "cell_type": "markdown",
   "id": "21a58cdb",
   "metadata": {},
   "source": [
    "Ho:There is no significant effect of age on risk\n",
    "\n",
    "Ha:There is significant effect of age on risk\n",
    "\n",
    "Here p value is 6.69e-28(<0.05),so we reject Ho\n",
    "\n",
    "Thus we conclude that there is significant effect of age on risk"
   ]
  },
  {
   "cell_type": "code",
   "execution_count": 30,
   "id": "f4840107",
   "metadata": {},
   "outputs": [
    {
     "data": {
      "text/plain": [
       "Ttest_indResult(statistic=1.5517553379317441, pvalue=0.1207220319451374)"
      ]
     },
     "execution_count": 30,
     "metadata": {},
     "output_type": "execute_result"
    }
   ],
   "source": [
    "stats.ttest_ind(df['Income'][df['Risk_Flag'] == 0],df['Income'][df['Risk_Flag'] == 1])"
   ]
  },
  {
   "cell_type": "markdown",
   "id": "fca02140",
   "metadata": {},
   "source": [
    "Ho:There is no significant effect of income on risk\n",
    "\n",
    "Ha:There is significant effect of income on risk\n",
    "\n",
    "Here p value is 0.120722(>0.05),so we fail to reject Ho\n",
    "\n",
    "Thus we conclude that there is no significant effect of income on risk."
   ]
  },
  {
   "cell_type": "code",
   "execution_count": 31,
   "id": "88b1e351",
   "metadata": {},
   "outputs": [
    {
     "data": {
      "text/plain": [
       "Ttest_indResult(statistic=17.34048172684957, pvalue=2.5475634862877598e-67)"
      ]
     },
     "execution_count": 31,
     "metadata": {},
     "output_type": "execute_result"
    }
   ],
   "source": [
    "stats.ttest_ind(df['Experience'][df['Risk_Flag'] == 0],df['Experience'][df['Risk_Flag'] == 1])"
   ]
  },
  {
   "cell_type": "markdown",
   "id": "da0c8464",
   "metadata": {},
   "source": [
    "Ho:There is no significant effect of experience on risk\n",
    "\n",
    "Ha:There is significant effect of experience on risk\n",
    "\n",
    "Here p value is 2.55e-67(<0.05),so we reject Ho\n",
    "Thus we conclude that there is significant effect of experience on risk"
   ]
  },
  {
   "cell_type": "markdown",
   "id": "ba4354ab",
   "metadata": {},
   "source": [
    "# FINAL OBSERVATIONS\n",
    "\n",
    "1)The significant numerical variables experience,age,while income is insignificant.\n",
    "\n",
    "2)The significant categorical variables are car ownership,house ownership and marriage."
   ]
  },
  {
   "cell_type": "markdown",
   "id": "a50af40c",
   "metadata": {},
   "source": [
    "# ENCODING "
   ]
  },
  {
   "cell_type": "code",
   "execution_count": 32,
   "id": "6c523acc",
   "metadata": {},
   "outputs": [],
   "source": [
    "x=pd.get_dummies(df['Married/Single'],drop_first=True)"
   ]
  },
  {
   "cell_type": "code",
   "execution_count": 33,
   "id": "4d1448ee",
   "metadata": {},
   "outputs": [],
   "source": [
    "df=pd.concat([df,x],axis=1)"
   ]
  },
  {
   "cell_type": "code",
   "execution_count": 34,
   "id": "7296d076",
   "metadata": {},
   "outputs": [],
   "source": [
    "df=df.drop('Married/Single',axis=1)"
   ]
  },
  {
   "cell_type": "code",
   "execution_count": 35,
   "id": "c4dcd704",
   "metadata": {},
   "outputs": [],
   "source": [
    "x=pd.get_dummies(df['House_Ownership'],drop_first=True)"
   ]
  },
  {
   "cell_type": "code",
   "execution_count": 36,
   "id": "9b472464",
   "metadata": {},
   "outputs": [],
   "source": [
    "df=pd.concat([df,x],axis=1)"
   ]
  },
  {
   "cell_type": "code",
   "execution_count": 37,
   "id": "d048affc",
   "metadata": {},
   "outputs": [],
   "source": [
    "df=df.drop('House_Ownership',axis=1)"
   ]
  },
  {
   "cell_type": "code",
   "execution_count": 38,
   "id": "279d23a2",
   "metadata": {},
   "outputs": [],
   "source": [
    "x=pd.get_dummies(df['Car_Ownership'],drop_first=True)"
   ]
  },
  {
   "cell_type": "code",
   "execution_count": 39,
   "id": "1fcbf2e8",
   "metadata": {},
   "outputs": [],
   "source": [
    "df=pd.concat([df,x],axis=1)"
   ]
  },
  {
   "cell_type": "code",
   "execution_count": 40,
   "id": "09d6d37e",
   "metadata": {},
   "outputs": [],
   "source": [
    "df=df.drop('Car_Ownership',axis=1)"
   ]
  },
  {
   "cell_type": "code",
   "execution_count": 41,
   "id": "a269d210",
   "metadata": {},
   "outputs": [],
   "source": [
    "df1=df.copy()"
   ]
  },
  {
   "cell_type": "code",
   "execution_count": 42,
   "id": "b54e196b",
   "metadata": {},
   "outputs": [
    {
     "data": {
      "text/html": [
       "<div>\n",
       "<style scoped>\n",
       "    .dataframe tbody tr th:only-of-type {\n",
       "        vertical-align: middle;\n",
       "    }\n",
       "\n",
       "    .dataframe tbody tr th {\n",
       "        vertical-align: top;\n",
       "    }\n",
       "\n",
       "    .dataframe thead th {\n",
       "        text-align: right;\n",
       "    }\n",
       "</style>\n",
       "<table border=\"1\" class=\"dataframe\">\n",
       "  <thead>\n",
       "    <tr style=\"text-align: right;\">\n",
       "      <th></th>\n",
       "      <th>Id</th>\n",
       "      <th>Income</th>\n",
       "      <th>Age</th>\n",
       "      <th>Experience</th>\n",
       "      <th>Profession</th>\n",
       "      <th>CITY</th>\n",
       "      <th>STATE</th>\n",
       "      <th>CURRENT_JOB_YRS</th>\n",
       "      <th>CURRENT_HOUSE_YRS</th>\n",
       "      <th>Risk_Flag</th>\n",
       "      <th>single</th>\n",
       "      <th>owned</th>\n",
       "      <th>rented</th>\n",
       "      <th>yes</th>\n",
       "    </tr>\n",
       "  </thead>\n",
       "  <tbody>\n",
       "    <tr>\n",
       "      <th>0</th>\n",
       "      <td>1</td>\n",
       "      <td>1303834</td>\n",
       "      <td>23</td>\n",
       "      <td>3</td>\n",
       "      <td>Mechanical_engineer</td>\n",
       "      <td>Rewa</td>\n",
       "      <td>Madhya_Pradesh</td>\n",
       "      <td>3</td>\n",
       "      <td>13</td>\n",
       "      <td>0</td>\n",
       "      <td>1</td>\n",
       "      <td>0</td>\n",
       "      <td>1</td>\n",
       "      <td>0</td>\n",
       "    </tr>\n",
       "    <tr>\n",
       "      <th>1</th>\n",
       "      <td>2</td>\n",
       "      <td>7574516</td>\n",
       "      <td>40</td>\n",
       "      <td>10</td>\n",
       "      <td>Software_Developer</td>\n",
       "      <td>Parbhani</td>\n",
       "      <td>Maharashtra</td>\n",
       "      <td>9</td>\n",
       "      <td>13</td>\n",
       "      <td>0</td>\n",
       "      <td>1</td>\n",
       "      <td>0</td>\n",
       "      <td>1</td>\n",
       "      <td>0</td>\n",
       "    </tr>\n",
       "    <tr>\n",
       "      <th>2</th>\n",
       "      <td>3</td>\n",
       "      <td>3991815</td>\n",
       "      <td>66</td>\n",
       "      <td>4</td>\n",
       "      <td>Technical_writer</td>\n",
       "      <td>Alappuzha</td>\n",
       "      <td>Kerala</td>\n",
       "      <td>4</td>\n",
       "      <td>10</td>\n",
       "      <td>0</td>\n",
       "      <td>0</td>\n",
       "      <td>0</td>\n",
       "      <td>1</td>\n",
       "      <td>0</td>\n",
       "    </tr>\n",
       "    <tr>\n",
       "      <th>3</th>\n",
       "      <td>4</td>\n",
       "      <td>6256451</td>\n",
       "      <td>41</td>\n",
       "      <td>2</td>\n",
       "      <td>Software_Developer</td>\n",
       "      <td>Bhubaneswar</td>\n",
       "      <td>Odisha</td>\n",
       "      <td>2</td>\n",
       "      <td>12</td>\n",
       "      <td>1</td>\n",
       "      <td>1</td>\n",
       "      <td>0</td>\n",
       "      <td>1</td>\n",
       "      <td>1</td>\n",
       "    </tr>\n",
       "    <tr>\n",
       "      <th>4</th>\n",
       "      <td>5</td>\n",
       "      <td>5768871</td>\n",
       "      <td>47</td>\n",
       "      <td>11</td>\n",
       "      <td>Civil_servant</td>\n",
       "      <td>Tiruchirappalli[10]</td>\n",
       "      <td>Tamil_Nadu</td>\n",
       "      <td>3</td>\n",
       "      <td>14</td>\n",
       "      <td>1</td>\n",
       "      <td>1</td>\n",
       "      <td>0</td>\n",
       "      <td>1</td>\n",
       "      <td>0</td>\n",
       "    </tr>\n",
       "    <tr>\n",
       "      <th>...</th>\n",
       "      <td>...</td>\n",
       "      <td>...</td>\n",
       "      <td>...</td>\n",
       "      <td>...</td>\n",
       "      <td>...</td>\n",
       "      <td>...</td>\n",
       "      <td>...</td>\n",
       "      <td>...</td>\n",
       "      <td>...</td>\n",
       "      <td>...</td>\n",
       "      <td>...</td>\n",
       "      <td>...</td>\n",
       "      <td>...</td>\n",
       "      <td>...</td>\n",
       "    </tr>\n",
       "    <tr>\n",
       "      <th>251995</th>\n",
       "      <td>251996</td>\n",
       "      <td>8154883</td>\n",
       "      <td>43</td>\n",
       "      <td>13</td>\n",
       "      <td>Surgeon</td>\n",
       "      <td>Kolkata</td>\n",
       "      <td>West_Bengal</td>\n",
       "      <td>6</td>\n",
       "      <td>11</td>\n",
       "      <td>0</td>\n",
       "      <td>1</td>\n",
       "      <td>0</td>\n",
       "      <td>1</td>\n",
       "      <td>0</td>\n",
       "    </tr>\n",
       "    <tr>\n",
       "      <th>251996</th>\n",
       "      <td>251997</td>\n",
       "      <td>2843572</td>\n",
       "      <td>26</td>\n",
       "      <td>10</td>\n",
       "      <td>Army_officer</td>\n",
       "      <td>Rewa</td>\n",
       "      <td>Madhya_Pradesh</td>\n",
       "      <td>6</td>\n",
       "      <td>11</td>\n",
       "      <td>0</td>\n",
       "      <td>1</td>\n",
       "      <td>0</td>\n",
       "      <td>1</td>\n",
       "      <td>0</td>\n",
       "    </tr>\n",
       "    <tr>\n",
       "      <th>251997</th>\n",
       "      <td>251998</td>\n",
       "      <td>4522448</td>\n",
       "      <td>46</td>\n",
       "      <td>7</td>\n",
       "      <td>Design_Engineer</td>\n",
       "      <td>Kalyan-Dombivli</td>\n",
       "      <td>Maharashtra</td>\n",
       "      <td>7</td>\n",
       "      <td>12</td>\n",
       "      <td>0</td>\n",
       "      <td>1</td>\n",
       "      <td>0</td>\n",
       "      <td>1</td>\n",
       "      <td>0</td>\n",
       "    </tr>\n",
       "    <tr>\n",
       "      <th>251998</th>\n",
       "      <td>251999</td>\n",
       "      <td>6507128</td>\n",
       "      <td>45</td>\n",
       "      <td>0</td>\n",
       "      <td>Graphic_Designer</td>\n",
       "      <td>Pondicherry</td>\n",
       "      <td>Puducherry</td>\n",
       "      <td>0</td>\n",
       "      <td>10</td>\n",
       "      <td>0</td>\n",
       "      <td>1</td>\n",
       "      <td>0</td>\n",
       "      <td>1</td>\n",
       "      <td>0</td>\n",
       "    </tr>\n",
       "    <tr>\n",
       "      <th>251999</th>\n",
       "      <td>252000</td>\n",
       "      <td>9070230</td>\n",
       "      <td>70</td>\n",
       "      <td>17</td>\n",
       "      <td>Statistician</td>\n",
       "      <td>Avadi</td>\n",
       "      <td>Tamil_Nadu</td>\n",
       "      <td>7</td>\n",
       "      <td>11</td>\n",
       "      <td>0</td>\n",
       "      <td>1</td>\n",
       "      <td>0</td>\n",
       "      <td>1</td>\n",
       "      <td>0</td>\n",
       "    </tr>\n",
       "  </tbody>\n",
       "</table>\n",
       "<p>252000 rows × 14 columns</p>\n",
       "</div>"
      ],
      "text/plain": [
       "            Id   Income  Age  Experience           Profession  \\\n",
       "0            1  1303834   23           3  Mechanical_engineer   \n",
       "1            2  7574516   40          10   Software_Developer   \n",
       "2            3  3991815   66           4     Technical_writer   \n",
       "3            4  6256451   41           2   Software_Developer   \n",
       "4            5  5768871   47          11        Civil_servant   \n",
       "...        ...      ...  ...         ...                  ...   \n",
       "251995  251996  8154883   43          13              Surgeon   \n",
       "251996  251997  2843572   26          10         Army_officer   \n",
       "251997  251998  4522448   46           7      Design_Engineer   \n",
       "251998  251999  6507128   45           0     Graphic_Designer   \n",
       "251999  252000  9070230   70          17         Statistician   \n",
       "\n",
       "                       CITY           STATE  CURRENT_JOB_YRS  \\\n",
       "0                      Rewa  Madhya_Pradesh                3   \n",
       "1                  Parbhani     Maharashtra                9   \n",
       "2                 Alappuzha          Kerala                4   \n",
       "3               Bhubaneswar          Odisha                2   \n",
       "4       Tiruchirappalli[10]      Tamil_Nadu                3   \n",
       "...                     ...             ...              ...   \n",
       "251995              Kolkata     West_Bengal                6   \n",
       "251996                 Rewa  Madhya_Pradesh                6   \n",
       "251997      Kalyan-Dombivli     Maharashtra                7   \n",
       "251998          Pondicherry      Puducherry                0   \n",
       "251999                Avadi      Tamil_Nadu                7   \n",
       "\n",
       "        CURRENT_HOUSE_YRS  Risk_Flag  single  owned  rented  yes  \n",
       "0                      13          0       1      0       1    0  \n",
       "1                      13          0       1      0       1    0  \n",
       "2                      10          0       0      0       1    0  \n",
       "3                      12          1       1      0       1    1  \n",
       "4                      14          1       1      0       1    0  \n",
       "...                   ...        ...     ...    ...     ...  ...  \n",
       "251995                 11          0       1      0       1    0  \n",
       "251996                 11          0       1      0       1    0  \n",
       "251997                 12          0       1      0       1    0  \n",
       "251998                 10          0       1      0       1    0  \n",
       "251999                 11          0       1      0       1    0  \n",
       "\n",
       "[252000 rows x 14 columns]"
      ]
     },
     "execution_count": 42,
     "metadata": {},
     "output_type": "execute_result"
    }
   ],
   "source": [
    "df1"
   ]
  },
  {
   "cell_type": "code",
   "execution_count": 43,
   "id": "1b15a0e9",
   "metadata": {},
   "outputs": [],
   "source": [
    "df1=df1.drop(['Id','Income','CITY','STATE'],axis=1)"
   ]
  },
  {
   "cell_type": "code",
   "execution_count": 44,
   "id": "8465b2dc",
   "metadata": {},
   "outputs": [
    {
     "data": {
      "text/plain": [
       "{'Physician': 5957,\n",
       " 'Statistician': 5806,\n",
       " 'Web_designer': 5397,\n",
       " 'Psychologist': 5390,\n",
       " 'Computer_hardware_engineer': 5372,\n",
       " 'Drafter': 5359,\n",
       " 'Magistrate': 5357,\n",
       " 'Fashion_Designer': 5304,\n",
       " 'Air_traffic_controller': 5281,\n",
       " 'Comedian': 5259,\n",
       " 'Industrial_Engineer': 5250,\n",
       " 'Mechanical_engineer': 5217,\n",
       " 'Chemical_engineer': 5205,\n",
       " 'Technical_writer': 5195,\n",
       " 'Hotel_Manager': 5178,\n",
       " 'Financial_Analyst': 5167,\n",
       " 'Graphic_Designer': 5166,\n",
       " 'Flight_attendant': 5128,\n",
       " 'Biomedical_Engineer': 5127,\n",
       " 'Secretary': 5061,\n",
       " 'Software_Developer': 5053,\n",
       " 'Petroleum_Engineer': 5041,\n",
       " 'Police_officer': 5035,\n",
       " 'Computer_operator': 4990,\n",
       " 'Politician': 4944,\n",
       " 'Microbiologist': 4881,\n",
       " 'Technician': 4864,\n",
       " 'Artist': 4861,\n",
       " 'Lawyer': 4818,\n",
       " 'Consultant': 4808,\n",
       " 'Dentist': 4782,\n",
       " 'Scientist': 4781,\n",
       " 'Surgeon': 4772,\n",
       " 'Aviator': 4758,\n",
       " 'Technology_specialist': 4737,\n",
       " 'Design_Engineer': 4729,\n",
       " 'Surveyor': 4714,\n",
       " 'Geologist': 4672,\n",
       " 'Analyst': 4668,\n",
       " 'Army_officer': 4661,\n",
       " 'Architect': 4657,\n",
       " 'Chef': 4635,\n",
       " 'Librarian': 4628,\n",
       " 'Civil_engineer': 4616,\n",
       " 'Designer': 4598,\n",
       " 'Economist': 4573,\n",
       " 'Firefighter': 4507,\n",
       " 'Chartered_Accountant': 4493,\n",
       " 'Civil_servant': 4413,\n",
       " 'Official': 4087,\n",
       " 'Engineer': 4048}"
      ]
     },
     "execution_count": 44,
     "metadata": {},
     "output_type": "execute_result"
    }
   ],
   "source": [
    "df_frquency = df1['Profession'].value_counts().to_dict()\n",
    "df_frquency"
   ]
  },
  {
   "cell_type": "code",
   "execution_count": 45,
   "id": "400b1887",
   "metadata": {},
   "outputs": [],
   "source": [
    "df1['Profession'] = df1['Profession'].map(df_frquency)"
   ]
  },
  {
   "cell_type": "code",
   "execution_count": 189,
   "id": "36ce5b0d",
   "metadata": {},
   "outputs": [
    {
     "data": {
      "text/html": [
       "<div>\n",
       "<style scoped>\n",
       "    .dataframe tbody tr th:only-of-type {\n",
       "        vertical-align: middle;\n",
       "    }\n",
       "\n",
       "    .dataframe tbody tr th {\n",
       "        vertical-align: top;\n",
       "    }\n",
       "\n",
       "    .dataframe thead th {\n",
       "        text-align: right;\n",
       "    }\n",
       "</style>\n",
       "<table border=\"1\" class=\"dataframe\">\n",
       "  <thead>\n",
       "    <tr style=\"text-align: right;\">\n",
       "      <th></th>\n",
       "      <th>Age</th>\n",
       "      <th>Experience</th>\n",
       "      <th>Profession</th>\n",
       "      <th>CITY</th>\n",
       "      <th>STATE</th>\n",
       "      <th>CURRENT_JOB_YRS</th>\n",
       "      <th>CURRENT_HOUSE_YRS</th>\n",
       "      <th>Risk_Flag</th>\n",
       "      <th>single</th>\n",
       "      <th>owned</th>\n",
       "      <th>rented</th>\n",
       "      <th>yes</th>\n",
       "    </tr>\n",
       "  </thead>\n",
       "  <tbody>\n",
       "    <tr>\n",
       "      <th>0</th>\n",
       "      <td>23</td>\n",
       "      <td>3</td>\n",
       "      <td>5217</td>\n",
       "      <td>798</td>\n",
       "      <td>14122</td>\n",
       "      <td>3</td>\n",
       "      <td>13</td>\n",
       "      <td>0</td>\n",
       "      <td>1</td>\n",
       "      <td>0</td>\n",
       "      <td>1</td>\n",
       "      <td>0</td>\n",
       "    </tr>\n",
       "    <tr>\n",
       "      <th>1</th>\n",
       "      <td>40</td>\n",
       "      <td>10</td>\n",
       "      <td>5053</td>\n",
       "      <td>849</td>\n",
       "      <td>25562</td>\n",
       "      <td>9</td>\n",
       "      <td>13</td>\n",
       "      <td>0</td>\n",
       "      <td>1</td>\n",
       "      <td>0</td>\n",
       "      <td>1</td>\n",
       "      <td>0</td>\n",
       "    </tr>\n",
       "    <tr>\n",
       "      <th>2</th>\n",
       "      <td>66</td>\n",
       "      <td>4</td>\n",
       "      <td>5195</td>\n",
       "      <td>688</td>\n",
       "      <td>5805</td>\n",
       "      <td>4</td>\n",
       "      <td>10</td>\n",
       "      <td>0</td>\n",
       "      <td>0</td>\n",
       "      <td>0</td>\n",
       "      <td>1</td>\n",
       "      <td>0</td>\n",
       "    </tr>\n",
       "    <tr>\n",
       "      <th>3</th>\n",
       "      <td>41</td>\n",
       "      <td>2</td>\n",
       "      <td>5053</td>\n",
       "      <td>607</td>\n",
       "      <td>4658</td>\n",
       "      <td>2</td>\n",
       "      <td>12</td>\n",
       "      <td>1</td>\n",
       "      <td>1</td>\n",
       "      <td>0</td>\n",
       "      <td>1</td>\n",
       "      <td>1</td>\n",
       "    </tr>\n",
       "    <tr>\n",
       "      <th>4</th>\n",
       "      <td>47</td>\n",
       "      <td>11</td>\n",
       "      <td>4413</td>\n",
       "      <td>809</td>\n",
       "      <td>16537</td>\n",
       "      <td>3</td>\n",
       "      <td>14</td>\n",
       "      <td>1</td>\n",
       "      <td>1</td>\n",
       "      <td>0</td>\n",
       "      <td>1</td>\n",
       "      <td>0</td>\n",
       "    </tr>\n",
       "    <tr>\n",
       "      <th>...</th>\n",
       "      <td>...</td>\n",
       "      <td>...</td>\n",
       "      <td>...</td>\n",
       "      <td>...</td>\n",
       "      <td>...</td>\n",
       "      <td>...</td>\n",
       "      <td>...</td>\n",
       "      <td>...</td>\n",
       "      <td>...</td>\n",
       "      <td>...</td>\n",
       "      <td>...</td>\n",
       "      <td>...</td>\n",
       "    </tr>\n",
       "    <tr>\n",
       "      <th>251995</th>\n",
       "      <td>43</td>\n",
       "      <td>13</td>\n",
       "      <td>4772</td>\n",
       "      <td>1033</td>\n",
       "      <td>23483</td>\n",
       "      <td>6</td>\n",
       "      <td>11</td>\n",
       "      <td>0</td>\n",
       "      <td>1</td>\n",
       "      <td>0</td>\n",
       "      <td>1</td>\n",
       "      <td>0</td>\n",
       "    </tr>\n",
       "    <tr>\n",
       "      <th>251996</th>\n",
       "      <td>26</td>\n",
       "      <td>10</td>\n",
       "      <td>4661</td>\n",
       "      <td>798</td>\n",
       "      <td>14122</td>\n",
       "      <td>6</td>\n",
       "      <td>11</td>\n",
       "      <td>0</td>\n",
       "      <td>1</td>\n",
       "      <td>0</td>\n",
       "      <td>1</td>\n",
       "      <td>0</td>\n",
       "    </tr>\n",
       "    <tr>\n",
       "      <th>251997</th>\n",
       "      <td>46</td>\n",
       "      <td>7</td>\n",
       "      <td>4729</td>\n",
       "      <td>741</td>\n",
       "      <td>25562</td>\n",
       "      <td>7</td>\n",
       "      <td>12</td>\n",
       "      <td>0</td>\n",
       "      <td>1</td>\n",
       "      <td>0</td>\n",
       "      <td>1</td>\n",
       "      <td>0</td>\n",
       "    </tr>\n",
       "    <tr>\n",
       "      <th>251998</th>\n",
       "      <td>45</td>\n",
       "      <td>0</td>\n",
       "      <td>5166</td>\n",
       "      <td>897</td>\n",
       "      <td>1433</td>\n",
       "      <td>0</td>\n",
       "      <td>10</td>\n",
       "      <td>0</td>\n",
       "      <td>1</td>\n",
       "      <td>0</td>\n",
       "      <td>1</td>\n",
       "      <td>0</td>\n",
       "    </tr>\n",
       "    <tr>\n",
       "      <th>251999</th>\n",
       "      <td>70</td>\n",
       "      <td>17</td>\n",
       "      <td>5806</td>\n",
       "      <td>667</td>\n",
       "      <td>16537</td>\n",
       "      <td>7</td>\n",
       "      <td>11</td>\n",
       "      <td>0</td>\n",
       "      <td>1</td>\n",
       "      <td>0</td>\n",
       "      <td>1</td>\n",
       "      <td>0</td>\n",
       "    </tr>\n",
       "  </tbody>\n",
       "</table>\n",
       "<p>252000 rows × 12 columns</p>\n",
       "</div>"
      ],
      "text/plain": [
       "        Age  Experience  Profession  CITY  STATE  CURRENT_JOB_YRS  \\\n",
       "0        23           3        5217   798  14122                3   \n",
       "1        40          10        5053   849  25562                9   \n",
       "2        66           4        5195   688   5805                4   \n",
       "3        41           2        5053   607   4658                2   \n",
       "4        47          11        4413   809  16537                3   \n",
       "...     ...         ...         ...   ...    ...              ...   \n",
       "251995   43          13        4772  1033  23483                6   \n",
       "251996   26          10        4661   798  14122                6   \n",
       "251997   46           7        4729   741  25562                7   \n",
       "251998   45           0        5166   897   1433                0   \n",
       "251999   70          17        5806   667  16537                7   \n",
       "\n",
       "        CURRENT_HOUSE_YRS  Risk_Flag  single  owned  rented  yes  \n",
       "0                      13          0       1      0       1    0  \n",
       "1                      13          0       1      0       1    0  \n",
       "2                      10          0       0      0       1    0  \n",
       "3                      12          1       1      0       1    1  \n",
       "4                      14          1       1      0       1    0  \n",
       "...                   ...        ...     ...    ...     ...  ...  \n",
       "251995                 11          0       1      0       1    0  \n",
       "251996                 11          0       1      0       1    0  \n",
       "251997                 12          0       1      0       1    0  \n",
       "251998                 10          0       1      0       1    0  \n",
       "251999                 11          0       1      0       1    0  \n",
       "\n",
       "[252000 rows x 12 columns]"
      ]
     },
     "execution_count": 189,
     "metadata": {},
     "output_type": "execute_result"
    }
   ],
   "source": [
    "df1"
   ]
  },
  {
   "cell_type": "markdown",
   "id": "81d0d9bb",
   "metadata": {},
   "source": [
    "# TRAIN TEST SPLIT AND SMOTE(FOR DATA BALANCING)"
   ]
  },
  {
   "cell_type": "code",
   "execution_count": 47,
   "id": "337c3514",
   "metadata": {},
   "outputs": [],
   "source": [
    "X = df1.drop(['Risk_Flag'],axis=1)\n",
    "y = df1.Risk_Flag\n",
    "X_train, X_test, y_train, y_test = train_test_split(X, y, test_size = 0.3,stratify = y, random_state = 42)"
   ]
  },
  {
   "cell_type": "code",
   "execution_count": 48,
   "id": "d0a9902e",
   "metadata": {},
   "outputs": [],
   "source": [
    "ss=StandardScaler()\n",
    "X_train=ss.fit_transform(X_train)\n",
    "X_test=ss.fit_transform(X_test)"
   ]
  },
  {
   "cell_type": "code",
   "execution_count": 49,
   "id": "b82380fa",
   "metadata": {},
   "outputs": [],
   "source": [
    "sm = SMOTE(random_state = 500)\n",
    "X_res, y_res = sm.fit_resample(X_train, y_train)"
   ]
  },
  {
   "cell_type": "markdown",
   "id": "b8385f16",
   "metadata": {},
   "source": [
    "# MODEL FITTING"
   ]
  },
  {
   "cell_type": "markdown",
   "id": "967bd27d",
   "metadata": {},
   "source": [
    "# LOGISTIC REGRESSION"
   ]
  },
  {
   "cell_type": "code",
   "execution_count": 50,
   "id": "4813046b",
   "metadata": {},
   "outputs": [],
   "source": [
    "model_logistic = LogisticRegression(max_iter = 100000)\n",
    "model_logistic.fit(X_res, y_res)\n",
    "y_pred = model_logistic.predict(X_test)"
   ]
  },
  {
   "cell_type": "code",
   "execution_count": 51,
   "id": "13dfffb2",
   "metadata": {},
   "outputs": [
    {
     "name": "stdout",
     "output_type": "stream",
     "text": [
      "-------------------------TEST SCORES-----------------------\n",
      "Recall: 57.3503\n",
      "Precision: 13.7679\n",
      "F1-Score: 22.2051\n",
      "Accuracy score: 50.5714\n",
      "AUC Score: 53.4855\n"
     ]
    }
   ],
   "source": [
    "print(\"-------------------------TEST SCORES-----------------------\") \n",
    "print(f\"Recall: { round(recall_score(y_test, y_pred)*100, 4) }\")\n",
    "print(f\"Precision: { round(precision_score(y_test, y_pred)*100, 4) }\")\n",
    "print(f\"F1-Score: { round(f1_score(y_test, y_pred)*100, 4) }\")\n",
    "print(f\"Accuracy score: { round(accuracy_score(y_test, y_pred)*100, 4) }\")\n",
    "print(f\"AUC Score: { round(roc_auc_score(y_test, y_pred)*100, 4) }\")"
   ]
  },
  {
   "cell_type": "markdown",
   "id": "7d87508f",
   "metadata": {},
   "source": [
    "# NON LINEAR MODEL FITTING"
   ]
  },
  {
   "cell_type": "code",
   "execution_count": 54,
   "id": "c4a25e6d",
   "metadata": {},
   "outputs": [],
   "source": [
    "df2=df.copy()"
   ]
  },
  {
   "cell_type": "code",
   "execution_count": 56,
   "id": "4255543b",
   "metadata": {},
   "outputs": [],
   "source": [
    "df2=df2.drop(['Id'],axis=1)"
   ]
  },
  {
   "cell_type": "code",
   "execution_count": 57,
   "id": "5c9af249",
   "metadata": {},
   "outputs": [
    {
     "data": {
      "text/plain": [
       "{'Physician': 5957,\n",
       " 'Statistician': 5806,\n",
       " 'Web_designer': 5397,\n",
       " 'Psychologist': 5390,\n",
       " 'Computer_hardware_engineer': 5372,\n",
       " 'Drafter': 5359,\n",
       " 'Magistrate': 5357,\n",
       " 'Fashion_Designer': 5304,\n",
       " 'Air_traffic_controller': 5281,\n",
       " 'Comedian': 5259,\n",
       " 'Industrial_Engineer': 5250,\n",
       " 'Mechanical_engineer': 5217,\n",
       " 'Chemical_engineer': 5205,\n",
       " 'Technical_writer': 5195,\n",
       " 'Hotel_Manager': 5178,\n",
       " 'Financial_Analyst': 5167,\n",
       " 'Graphic_Designer': 5166,\n",
       " 'Flight_attendant': 5128,\n",
       " 'Biomedical_Engineer': 5127,\n",
       " 'Secretary': 5061,\n",
       " 'Software_Developer': 5053,\n",
       " 'Petroleum_Engineer': 5041,\n",
       " 'Police_officer': 5035,\n",
       " 'Computer_operator': 4990,\n",
       " 'Politician': 4944,\n",
       " 'Microbiologist': 4881,\n",
       " 'Technician': 4864,\n",
       " 'Artist': 4861,\n",
       " 'Lawyer': 4818,\n",
       " 'Consultant': 4808,\n",
       " 'Dentist': 4782,\n",
       " 'Scientist': 4781,\n",
       " 'Surgeon': 4772,\n",
       " 'Aviator': 4758,\n",
       " 'Technology_specialist': 4737,\n",
       " 'Design_Engineer': 4729,\n",
       " 'Surveyor': 4714,\n",
       " 'Geologist': 4672,\n",
       " 'Analyst': 4668,\n",
       " 'Army_officer': 4661,\n",
       " 'Architect': 4657,\n",
       " 'Chef': 4635,\n",
       " 'Librarian': 4628,\n",
       " 'Civil_engineer': 4616,\n",
       " 'Designer': 4598,\n",
       " 'Economist': 4573,\n",
       " 'Firefighter': 4507,\n",
       " 'Chartered_Accountant': 4493,\n",
       " 'Civil_servant': 4413,\n",
       " 'Official': 4087,\n",
       " 'Engineer': 4048}"
      ]
     },
     "execution_count": 57,
     "metadata": {},
     "output_type": "execute_result"
    }
   ],
   "source": [
    "df_frquency = df2['Profession'].value_counts().to_dict()\n",
    "df_frquency"
   ]
  },
  {
   "cell_type": "code",
   "execution_count": 58,
   "id": "6905e335",
   "metadata": {},
   "outputs": [],
   "source": [
    "df2['Profession'] = df2['Profession'].map(df_frquency)"
   ]
  },
  {
   "cell_type": "code",
   "execution_count": 59,
   "id": "18f9e52a",
   "metadata": {},
   "outputs": [
    {
     "data": {
      "text/plain": [
       "{'Vijayanagaram': 1259,\n",
       " 'Bhopal': 1208,\n",
       " 'Bulandshahr': 1185,\n",
       " 'Saharsa[29]': 1180,\n",
       " 'Vijayawada': 1172,\n",
       " 'Srinagar': 1136,\n",
       " 'Indore': 1130,\n",
       " 'New_Delhi': 1098,\n",
       " 'Hajipur[31]': 1098,\n",
       " 'Satara': 1096,\n",
       " 'Navi_Mumbai': 1084,\n",
       " 'Jorhat': 1079,\n",
       " 'Ongole': 1067,\n",
       " 'Bellary': 1065,\n",
       " 'Erode[17]': 1064,\n",
       " 'Giridih': 1064,\n",
       " 'Hospet': 1058,\n",
       " 'Jodhpur': 1056,\n",
       " 'Khammam': 1051,\n",
       " 'Danapur': 1037,\n",
       " 'Bareilly': 1036,\n",
       " 'Bidhannagar': 1033,\n",
       " 'Kolkata': 1033,\n",
       " 'Satna': 1028,\n",
       " 'Howrah': 1016,\n",
       " 'Mango': 1016,\n",
       " 'Agra': 1012,\n",
       " 'Thanjavur': 1003,\n",
       " 'Haridwar': 1001,\n",
       " 'Anantapuram[24]': 994,\n",
       " 'Buxar[37]': 985,\n",
       " 'Deoghar': 985,\n",
       " 'Farrukhabad': 985,\n",
       " 'Pallavaram': 984,\n",
       " 'Ulhasnagar': 977,\n",
       " 'Thane': 976,\n",
       " 'Raurkela_Industrial_Township': 976,\n",
       " 'Arrah': 976,\n",
       " 'Thrissur': 973,\n",
       " 'Visakhapatnam[4]': 971,\n",
       " 'Dibrugarh': 971,\n",
       " 'Proddatur': 971,\n",
       " 'Bahraich': 970,\n",
       " 'Gorakhpur': 965,\n",
       " 'Kulti': 963,\n",
       " 'Nanded': 963,\n",
       " 'Kochi': 961,\n",
       " 'Vadodara': 960,\n",
       " 'Silchar': 958,\n",
       " 'Sonipat': 956,\n",
       " 'Malda': 953,\n",
       " 'Adoni': 953,\n",
       " 'Bhalswa_Jahangir_Pur': 951,\n",
       " 'Surat': 951,\n",
       " 'Jhansi': 948,\n",
       " 'Jaipur': 945,\n",
       " 'Pune': 942,\n",
       " 'Chapra': 940,\n",
       " 'Suryapet': 940,\n",
       " 'Ghaziabad': 939,\n",
       " 'Baranagar': 935,\n",
       " 'Thoothukudi': 935,\n",
       " 'Eluru[25]': 933,\n",
       " 'Ambattur': 931,\n",
       " 'Vasai-Virar': 930,\n",
       " 'Siliguri': 926,\n",
       " 'Mahbubnagar': 919,\n",
       " 'Vellore': 916,\n",
       " 'Shivpuri': 916,\n",
       " 'Amroha': 915,\n",
       " 'Kanpur': 913,\n",
       " 'Pimpri-Chinchwad': 907,\n",
       " 'Anand': 906,\n",
       " 'Khora,_Ghaziabad': 905,\n",
       " 'Unnao': 903,\n",
       " 'Thiruvananthapuram': 900,\n",
       " 'Davanagere': 899,\n",
       " 'Bhilai': 897,\n",
       " 'Pondicherry': 897,\n",
       " 'Nadiad': 896,\n",
       " 'Ratlam': 896,\n",
       " 'Orai': 894,\n",
       " 'Sambalpur': 893,\n",
       " 'Katihar': 893,\n",
       " 'Nandyal': 891,\n",
       " 'Medininagar': 889,\n",
       " 'Sirsa': 885,\n",
       " 'Bhavnagar': 883,\n",
       " 'Karawal_Nagar': 883,\n",
       " 'Ambarnath': 883,\n",
       " 'Tinsukia': 880,\n",
       " 'Panihati': 880,\n",
       " 'Guna': 877,\n",
       " 'Raebareli': 877,\n",
       " 'Ludhiana': 874,\n",
       " 'Dehradun': 873,\n",
       " 'Cuttack': 870,\n",
       " 'Tezpur': 870,\n",
       " 'South_Dumdum': 868,\n",
       " 'Mehsana': 868,\n",
       " 'Durgapur': 866,\n",
       " 'Bharatpur': 866,\n",
       " 'Siwan[32]': 865,\n",
       " 'Hapur': 865,\n",
       " 'Barasat': 863,\n",
       " 'Jamnagar': 862,\n",
       " 'Bidar': 861,\n",
       " 'Hazaribagh': 861,\n",
       " 'Madanapalle': 861,\n",
       " 'Dharmavaram': 861,\n",
       " 'Munger': 860,\n",
       " 'Darbhanga': 860,\n",
       " 'Bhatpara': 860,\n",
       " 'Aligarh': 858,\n",
       " 'Jalgaon': 857,\n",
       " 'Malegaon': 854,\n",
       " 'Jabalpur': 854,\n",
       " 'Imphal': 849,\n",
       " 'Aizawl': 849,\n",
       " 'Parbhani': 849,\n",
       " 'Burhanpur': 845,\n",
       " 'Bathinda': 844,\n",
       " 'Nashik': 841,\n",
       " 'Miryalaguda': 840,\n",
       " 'Amaravati': 840,\n",
       " 'Bhagalpur': 838,\n",
       " 'Kishanganj[35]': 838,\n",
       " 'Aurangabad': 835,\n",
       " 'Tiruppur': 834,\n",
       " 'Tirupati[21][22]': 833,\n",
       " 'Shimla': 833,\n",
       " 'Machilipatnam': 832,\n",
       " 'Ballia': 830,\n",
       " 'Ajmer': 829,\n",
       " 'Nagaon': 826,\n",
       " 'Dehri[30]': 823,\n",
       " 'Kavali': 822,\n",
       " 'Jalandhar': 821,\n",
       " 'Raipur': 820,\n",
       " 'Kottayam': 812,\n",
       " 'Mangalore': 810,\n",
       " 'Gulbarga': 810,\n",
       " 'Tiruchirappalli[10]': 809,\n",
       " 'Agartala': 809,\n",
       " 'Kadapa[23]': 807,\n",
       " 'Chinsurah': 805,\n",
       " 'Pudukkottai': 805,\n",
       " 'Morena': 803,\n",
       " 'Sambhal': 802,\n",
       " 'Sikar': 801,\n",
       " 'Guntur[13]': 800,\n",
       " 'Rewa': 798,\n",
       " 'Solapur': 798,\n",
       " 'Durg': 797,\n",
       " 'Saharanpur': 794,\n",
       " 'Alwar': 793,\n",
       " 'Jalna': 793,\n",
       " 'Belgaum': 792,\n",
       " 'Mau': 791,\n",
       " 'Berhampore': 790,\n",
       " 'Tirunelveli': 786,\n",
       " 'Phusro': 785,\n",
       " 'Kumbakonam': 782,\n",
       " 'Muzaffarpur': 781,\n",
       " 'Dhule': 778,\n",
       " 'Rajpur_Sonarpur': 778,\n",
       " 'Uluberia': 777,\n",
       " 'Ambala': 776,\n",
       " 'Kamarhati': 775,\n",
       " 'Jaunpur': 774,\n",
       " 'Shimoga': 773,\n",
       " 'Tumkur': 772,\n",
       " 'Bhiwani': 770,\n",
       " 'Junagadh': 769,\n",
       " 'Morbi': 768,\n",
       " 'North_Dumdum': 768,\n",
       " 'Akola': 767,\n",
       " 'Phagwara': 763,\n",
       " 'Kirari_Suleman_Nagar': 761,\n",
       " 'Amravati': 760,\n",
       " 'Bhilwara': 757,\n",
       " 'Madurai': 757,\n",
       " 'Dindigul': 757,\n",
       " 'Raichur': 757,\n",
       " 'Rajkot': 756,\n",
       " 'Gandhidham': 753,\n",
       " 'Ichalkaranji': 752,\n",
       " 'Panvel': 751,\n",
       " 'Tiruvottiyur': 749,\n",
       " 'Begusarai': 745,\n",
       " 'Bongaigaon': 743,\n",
       " 'Allahabad': 743,\n",
       " 'Kalyan-Dombivli': 741,\n",
       " 'Kollam': 741,\n",
       " 'Karimnagar': 740,\n",
       " 'Mysore[7][8][9]': 739,\n",
       " 'Serampore': 738,\n",
       " 'Surendranagar_Dudhrej': 736,\n",
       " 'Guwahati': 735,\n",
       " 'Ramagundam[27]': 734,\n",
       " 'Salem': 734,\n",
       " 'Bhind': 733,\n",
       " 'Nagpur': 731,\n",
       " 'Madhyamgram': 730,\n",
       " 'Amritsar': 730,\n",
       " 'Kozhikode': 730,\n",
       " 'Noida': 729,\n",
       " 'Bangalore': 727,\n",
       " 'Gopalpur': 725,\n",
       " 'Mirzapur': 723,\n",
       " 'Jehanabad[38]': 719,\n",
       " 'Ranchi': 719,\n",
       " 'Mathura': 718,\n",
       " 'Fatehpur': 718,\n",
       " 'Raiganj': 718,\n",
       " 'Maheshtala': 715,\n",
       " 'Firozabad': 713,\n",
       " 'Kharagpur': 711,\n",
       " 'Aurangabad[39]': 708,\n",
       " 'Panipat': 706,\n",
       " 'Bhusawal': 706,\n",
       " 'Coimbatore': 704,\n",
       " 'Sasaram[30]': 702,\n",
       " 'Kurnool[18]': 702,\n",
       " 'Mira-Bhayandar': 699,\n",
       " 'Rourkela': 699,\n",
       " 'Chittoor[28]': 695,\n",
       " 'Bardhaman': 689,\n",
       " 'Patiala': 688,\n",
       " 'Alappuzha': 688,\n",
       " 'Udupi': 687,\n",
       " 'Bilaspur': 686,\n",
       " 'Gurgaon': 685,\n",
       " 'Singrauli': 684,\n",
       " 'Hindupur': 683,\n",
       " 'Jamshedpur': 683,\n",
       " 'Kakinada': 682,\n",
       " 'Bally': 681,\n",
       " 'Hyderabad': 679,\n",
       " 'Nellore[14][15]': 674,\n",
       " 'Nangloi_Jat': 673,\n",
       " 'Jamalpur[36]': 673,\n",
       " 'Muzaffarnagar': 668,\n",
       " 'Avadi': 667,\n",
       " 'Tenali': 666,\n",
       " 'Faridabad': 665,\n",
       " 'Varanasi': 663,\n",
       " 'Mumbai': 661,\n",
       " 'Kota[6]': 660,\n",
       " 'Ramgarh': 660,\n",
       " 'Yamunanagar': 659,\n",
       " 'Meerut': 658,\n",
       " 'Haldia': 658,\n",
       " 'Asansol': 657,\n",
       " 'Chandigarh_city': 656,\n",
       " 'Gaya': 656,\n",
       " 'Bhiwandi': 655,\n",
       " 'Bokaro': 654,\n",
       " 'Pali': 653,\n",
       " 'Nagercoil': 651,\n",
       " 'Gandhinagar': 651,\n",
       " 'Tadepalligudem': 651,\n",
       " 'Ahmedabad': 649,\n",
       " 'Dhanbad': 649,\n",
       " 'Rampur': 648,\n",
       " 'Dewas': 646,\n",
       " 'Ahmednagar': 645,\n",
       " 'Lucknow': 645,\n",
       " 'Jammu[16]': 644,\n",
       " 'Motihari[34]': 641,\n",
       " 'Sangli-Miraj_&_Kupwad': 639,\n",
       " 'Korba': 634,\n",
       " 'Moradabad': 631,\n",
       " 'Hosur': 630,\n",
       " 'Srikakulam': 629,\n",
       " 'Gudivada': 625,\n",
       " 'Panchkula': 624,\n",
       " 'Karnal': 618,\n",
       " 'Sri_Ganganagar': 618,\n",
       " 'Gwalior': 616,\n",
       " 'Etawah': 615,\n",
       " 'Khandwa': 614,\n",
       " 'Kolhapur': 613,\n",
       " 'Berhampur': 613,\n",
       " 'Secunderabad': 612,\n",
       " 'Gangtok': 608,\n",
       " 'Chennai': 608,\n",
       " 'Bhubaneswar': 607,\n",
       " 'Bhimavaram': 606,\n",
       " 'Udaipur': 606,\n",
       " 'Shahjahanpur': 601,\n",
       " 'Rajahmundry[19][20]': 598,\n",
       " 'Delhi_city': 596,\n",
       " 'Bikaner': 590,\n",
       " 'Guntakal': 588,\n",
       " 'Latur': 580,\n",
       " 'Anantapur': 579,\n",
       " 'Bijapur': 572,\n",
       " 'Naihati': 572,\n",
       " 'Nizamabad': 550,\n",
       " 'Rohtak': 546,\n",
       " 'Sagar': 540,\n",
       " 'Ozhukarai': 536,\n",
       " 'Hubliâ€“Dharwad': 533,\n",
       " 'Narasaraopet': 529,\n",
       " 'Sultan_Pur_Majra': 528,\n",
       " 'Tadipatri': 523,\n",
       " 'Patna': 510,\n",
       " 'Loni': 509,\n",
       " 'Bihar_Sharif': 501,\n",
       " 'Chandrapur': 499,\n",
       " 'Purnia[26]': 494,\n",
       " 'Ujjain': 486,\n",
       " 'Warangal[11][12]': 459,\n",
       " 'Bettiah[33]': 457,\n",
       " 'Katni': 448,\n",
       " 'Karaikudi': 431}"
      ]
     },
     "execution_count": 59,
     "metadata": {},
     "output_type": "execute_result"
    }
   ],
   "source": [
    "df_frquency = df2['CITY'].value_counts().to_dict()\n",
    "df_frquency"
   ]
  },
  {
   "cell_type": "code",
   "execution_count": 60,
   "id": "b8513b1c",
   "metadata": {},
   "outputs": [],
   "source": [
    "df2['CITY'] = df2['CITY'].map(df_frquency)"
   ]
  },
  {
   "cell_type": "code",
   "execution_count": 61,
   "id": "2f8e61b8",
   "metadata": {},
   "outputs": [
    {
     "data": {
      "text/plain": [
       "{'Uttar_Pradesh': 28400,\n",
       " 'Maharashtra': 25562,\n",
       " 'Andhra_Pradesh': 25297,\n",
       " 'West_Bengal': 23483,\n",
       " 'Bihar': 19780,\n",
       " 'Tamil_Nadu': 16537,\n",
       " 'Madhya_Pradesh': 14122,\n",
       " 'Karnataka': 11855,\n",
       " 'Gujarat': 11408,\n",
       " 'Rajasthan': 9174,\n",
       " 'Jharkhand': 8965,\n",
       " 'Haryana': 7890,\n",
       " 'Telangana': 7524,\n",
       " 'Assam': 7062,\n",
       " 'Kerala': 5805,\n",
       " 'Delhi': 5490,\n",
       " 'Punjab': 4720,\n",
       " 'Odisha': 4658,\n",
       " 'Chhattisgarh': 3834,\n",
       " 'Uttarakhand': 1874,\n",
       " 'Jammu_and_Kashmir': 1780,\n",
       " 'Puducherry': 1433,\n",
       " 'Mizoram': 849,\n",
       " 'Manipur': 849,\n",
       " 'Himachal_Pradesh': 833,\n",
       " 'Tripura': 809,\n",
       " 'Uttar_Pradesh[5]': 743,\n",
       " 'Chandigarh': 656,\n",
       " 'Sikkim': 608}"
      ]
     },
     "execution_count": 61,
     "metadata": {},
     "output_type": "execute_result"
    }
   ],
   "source": [
    "df_frquency = df2['STATE'].value_counts().to_dict()\n",
    "df_frquency"
   ]
  },
  {
   "cell_type": "code",
   "execution_count": 62,
   "id": "40fb0ef8",
   "metadata": {},
   "outputs": [],
   "source": [
    "df2['STATE'] = df2['STATE'].map(df_frquency)"
   ]
  },
  {
   "cell_type": "code",
   "execution_count": 63,
   "id": "d17e6a42",
   "metadata": {},
   "outputs": [],
   "source": [
    "X = df1.drop(['Risk_Flag'],axis=1)\n",
    "y = df1.Risk_Flag"
   ]
  },
  {
   "cell_type": "code",
   "execution_count": 64,
   "id": "316e609a",
   "metadata": {},
   "outputs": [],
   "source": [
    "X_train, X_test, y_train, y_test = train_test_split(X, y, test_size = 0.3,stratify = y, random_state = 42)"
   ]
  },
  {
   "cell_type": "code",
   "execution_count": 66,
   "id": "de3c42ff",
   "metadata": {},
   "outputs": [],
   "source": [
    "ss=MinMaxScaler()\n",
    "X_train=ss.fit_transform(X_train)\n",
    "X_test=ss.fit_transform(X_test)"
   ]
  },
  {
   "cell_type": "code",
   "execution_count": 67,
   "id": "0c1dfafc",
   "metadata": {},
   "outputs": [],
   "source": [
    "sm = SMOTE(random_state = 500)\n",
    "X_res, y_res = sm.fit_resample(X_train, y_train)"
   ]
  },
  {
   "cell_type": "markdown",
   "id": "b769a02a",
   "metadata": {},
   "source": [
    "# RANDOM FOREST (GINI)"
   ]
  },
  {
   "cell_type": "code",
   "execution_count": 68,
   "id": "6fe3b6e8",
   "metadata": {},
   "outputs": [],
   "source": [
    "cf=RandomForestClassifier(n_estimators=50,criterion='gini',random_state=0)\n",
    "cf.fit(X_res,y_res)\n",
    "y_pred = cf.predict(X_test)"
   ]
  },
  {
   "cell_type": "code",
   "execution_count": 69,
   "id": "af3d681b",
   "metadata": {},
   "outputs": [
    {
     "name": "stdout",
     "output_type": "stream",
     "text": [
      "-------------------------TEST SCORES-----------------------\n",
      "Recall: 78.7612\n",
      "Precision: 52.7134\n",
      "F1-Score: 63.157\n",
      "Accuracy score: 88.6971\n",
      "AUC Score: 84.4259\n"
     ]
    }
   ],
   "source": [
    "print(\"-------------------------TEST SCORES-----------------------\") \n",
    "print(f\"Recall: { round(recall_score(y_test, y_pred)*100, 4) }\")\n",
    "print(f\"Precision: { round(precision_score(y_test, y_pred)*100, 4) }\")\n",
    "print(f\"F1-Score: { round(f1_score(y_test, y_pred)*100, 4) }\")\n",
    "print(f\"Accuracy score: { round(accuracy_score(y_test, y_pred)*100, 4) }\")\n",
    "print(f\"AUC Score: { round(roc_auc_score(y_test, y_pred)*100, 4) }\")"
   ]
  },
  {
   "cell_type": "markdown",
   "id": "3e228a1c",
   "metadata": {},
   "source": [
    "# RANDOM FOREST (ENTROPY)"
   ]
  },
  {
   "cell_type": "code",
   "execution_count": 86,
   "id": "a59e6102",
   "metadata": {},
   "outputs": [],
   "source": [
    "cf=RandomForestClassifier(n_estimators=50,criterion='entropy',random_state=0)\n",
    "cf.fit(X_res,y_res)\n",
    "y_pred = cf.predict(X_test)"
   ]
  },
  {
   "cell_type": "code",
   "execution_count": 87,
   "id": "8ffac52a",
   "metadata": {},
   "outputs": [
    {
     "name": "stdout",
     "output_type": "stream",
     "text": [
      "-------------------------TEST SCORES-----------------------\n",
      "Recall: 78.417\n",
      "Precision: 52.7947\n",
      "F1-Score: 63.1041\n",
      "Accuracy score: 88.7209\n",
      "AUC Score: 84.2915\n"
     ]
    }
   ],
   "source": [
    "print(\"-------------------------TEST SCORES-----------------------\") \n",
    "print(f\"Recall: { round(recall_score(y_test, y_pred)*100, 4) }\")\n",
    "print(f\"Precision: { round(precision_score(y_test, y_pred)*100, 4) }\")\n",
    "print(f\"F1-Score: { round(f1_score(y_test, y_pred)*100, 4) }\")\n",
    "print(f\"Accuracy score: { round(accuracy_score(y_test, y_pred)*100, 4) }\")\n",
    "print(f\"AUC Score: { round(roc_auc_score(y_test, y_pred)*100, 4) }\")"
   ]
  },
  {
   "cell_type": "markdown",
   "id": "05007023",
   "metadata": {},
   "source": [
    "# KNN(n=7)"
   ]
  },
  {
   "cell_type": "code",
   "execution_count": 71,
   "id": "cf672d47",
   "metadata": {},
   "outputs": [
    {
     "data": {
      "image/png": "[encoded data removed]",
      "text/plain": [
       "<Figure size 576x396 with 1 Axes>"
      ]
     },
     "metadata": {},
     "output_type": "display_data"
    }
   ],
   "source": [
    "Elbow_M = KElbowVisualizer(KMeans(), k=10,timings=False)\n",
    "Elbow_M.fit(X_res)\n",
    "Elbow_M.show()\n",
    "plt.show()"
   ]
  },
  {
   "cell_type": "code",
   "execution_count": 74,
   "id": "02b31da1",
   "metadata": {},
   "outputs": [
    {
     "data": {
      "text/plain": [
       "KNeighborsClassifier(n_neighbors=7, weights='distance')"
      ]
     },
     "execution_count": 74,
     "metadata": {},
     "output_type": "execute_result"
    }
   ],
   "source": [
    "cf=KNeighborsClassifier(n_neighbors=7,weights='distance')\n",
    "cf.fit(X_res,y_res)"
   ]
  },
  {
   "cell_type": "code",
   "execution_count": 76,
   "id": "9f0fedf2",
   "metadata": {},
   "outputs": [],
   "source": [
    "y_pred=cf.predict(X_test)"
   ]
  },
  {
   "cell_type": "code",
   "execution_count": 77,
   "id": "c723fc1b",
   "metadata": {},
   "outputs": [
    {
     "name": "stdout",
     "output_type": "stream",
     "text": [
      "-------------------------TEST SCORES-----------------------\n",
      "Recall: 58.4902\n",
      "Precision: 46.2068\n",
      "F1-Score: 51.6279\n",
      "Accuracy score: 86.5185\n",
      "AUC Score: 74.4699\n"
     ]
    }
   ],
   "source": [
    "print(\"-------------------------TEST SCORES-----------------------\") \n",
    "print(f\"Recall: { round(recall_score(y_test, y_pred)*100, 4) }\")\n",
    "print(f\"Precision: { round(precision_score(y_test, y_pred)*100, 4) }\")\n",
    "print(f\"F1-Score: { round(f1_score(y_test, y_pred)*100, 4) }\")\n",
    "print(f\"Accuracy score: { round(accuracy_score(y_test, y_pred)*100, 4) }\")\n",
    "print(f\"AUC Score: { round(roc_auc_score(y_test, y_pred)*100, 4) }\")"
   ]
  },
  {
   "cell_type": "markdown",
   "id": "0ba9548b",
   "metadata": {},
   "source": [
    "# DECISION TREES(GINI)"
   ]
  },
  {
   "cell_type": "code",
   "execution_count": 80,
   "id": "680fa6be",
   "metadata": {},
   "outputs": [
    {
     "data": {
      "text/plain": [
       "DecisionTreeClassifier(random_state=0)"
      ]
     },
     "execution_count": 80,
     "metadata": {},
     "output_type": "execute_result"
    }
   ],
   "source": [
    "cf=DecisionTreeClassifier(random_state=0,criterion=\"gini\")\n",
    "cf.fit(X_res,y_res)"
   ]
  },
  {
   "cell_type": "code",
   "execution_count": 81,
   "id": "5fee56ed",
   "metadata": {},
   "outputs": [],
   "source": [
    "y_pred=cf.predict(X_test)"
   ]
  },
  {
   "cell_type": "code",
   "execution_count": 82,
   "id": "597e8f6e",
   "metadata": {},
   "outputs": [
    {
     "name": "stdout",
     "output_type": "stream",
     "text": [
      "-------------------------TEST SCORES-----------------------\n",
      "Recall: 82.2884\n",
      "Precision: 49.0104\n",
      "F1-Score: 61.4322\n",
      "Accuracy score: 87.291\n",
      "AUC Score: 85.1405\n"
     ]
    }
   ],
   "source": [
    "print(\"-------------------------TEST SCORES-----------------------\") \n",
    "print(f\"Recall: { round(recall_score(y_test, y_pred)*100, 4) }\")\n",
    "print(f\"Precision: { round(precision_score(y_test, y_pred)*100, 4) }\")\n",
    "print(f\"F1-Score: { round(f1_score(y_test, y_pred)*100, 4) }\")\n",
    "print(f\"Accuracy score: { round(accuracy_score(y_test, y_pred)*100, 4) }\")\n",
    "print(f\"AUC Score: { round(roc_auc_score(y_test, y_pred)*100, 4) }\")"
   ]
  },
  {
   "cell_type": "markdown",
   "id": "812bbaca",
   "metadata": {},
   "source": [
    "# DECISION TREES(ENTROPY)"
   ]
  },
  {
   "cell_type": "code",
   "execution_count": 83,
   "id": "cc9c655f",
   "metadata": {},
   "outputs": [
    {
     "data": {
      "text/plain": [
       "DecisionTreeClassifier(criterion='entropy', random_state=0)"
      ]
     },
     "execution_count": 83,
     "metadata": {},
     "output_type": "execute_result"
    }
   ],
   "source": [
    "cf=DecisionTreeClassifier(random_state=0,criterion='entropy')\n",
    "cf.fit(X_res,y_res)"
   ]
  },
  {
   "cell_type": "code",
   "execution_count": 84,
   "id": "df6cde05",
   "metadata": {},
   "outputs": [],
   "source": [
    "y_pred=cf.predict(X_test)"
   ]
  },
  {
   "cell_type": "code",
   "execution_count": 85,
   "id": "a96e925e",
   "metadata": {},
   "outputs": [
    {
     "name": "stdout",
     "output_type": "stream",
     "text": [
      "-------------------------TEST SCORES-----------------------\n",
      "Recall: 82.4282\n",
      "Precision: 49.1378\n",
      "F1-Score: 61.5712\n",
      "Accuracy score: 87.3439\n",
      "AUC Score: 85.2308\n"
     ]
    }
   ],
   "source": [
    "print(\"-------------------------TEST SCORES-----------------------\") \n",
    "print(f\"Recall: { round(recall_score(y_test, y_pred)*100, 4) }\")\n",
    "print(f\"Precision: { round(precision_score(y_test, y_pred)*100, 4) }\")\n",
    "print(f\"F1-Score: { round(f1_score(y_test, y_pred)*100, 4) }\")\n",
    "print(f\"Accuracy score: { round(accuracy_score(y_test, y_pred)*100, 4) }\")\n",
    "print(f\"AUC Score: { round(roc_auc_score(y_test, y_pred)*100, 4) }\")"
   ]
  },
  {
   "cell_type": "markdown",
   "id": "b0290131",
   "metadata": {},
   "source": [
    "# XGB"
   ]
  },
  {
   "cell_type": "code",
   "execution_count": 94,
   "id": "394f622c",
   "metadata": {},
   "outputs": [
    {
     "name": "stdout",
     "output_type": "stream",
     "text": [
      "[13:33:44] WARNING: C:/Users/Administrator/workspace/xgboost-win64_release_1.5.1/src/learner.cc:1115: Starting in XGBoost 1.3.0, the default evaluation metric used with the objective 'binary:logistic' was changed from 'error' to 'logloss'. Explicitly set eval_metric if you'd like to restore the old behavior.\n"
     ]
    },
    {
     "data": {
      "text/plain": [
       "XGBClassifier(base_score=0.5, booster='gbtree', colsample_bylevel=1,\n",
       "              colsample_bynode=1, colsample_bytree=1, enable_categorical=False,\n",
       "              gamma=0, gpu_id=-1, importance_type=None,\n",
       "              interaction_constraints='', learning_rate=0.300000012,\n",
       "              max_delta_step=0, max_depth=6, min_child_weight=1, missing=nan,\n",
       "              monotone_constraints='()', n_estimators=100, n_jobs=4,\n",
       "              num_parallel_tree=1, predictor='auto', random_state=0,\n",
       "              reg_alpha=0, reg_lambda=1, scale_pos_weight=1, subsample=1,\n",
       "              tree_method='exact', validate_parameters=1, verbosity=None)"
      ]
     },
     "execution_count": 94,
     "metadata": {},
     "output_type": "execute_result"
    }
   ],
   "source": [
    "cf=XGBClassifier()\n",
    "cf.fit(X_res,y_res)"
   ]
  },
  {
   "cell_type": "code",
   "execution_count": 92,
   "id": "86381146",
   "metadata": {},
   "outputs": [],
   "source": [
    "y_pred=cf.predict(X_test)"
   ]
  },
  {
   "cell_type": "code",
   "execution_count": 93,
   "id": "cc70aa50",
   "metadata": {},
   "outputs": [
    {
     "name": "stdout",
     "output_type": "stream",
     "text": [
      "-------------------------TEST SCORES-----------------------\n",
      "Recall: 70.9539\n",
      "Precision: 40.1631\n",
      "F1-Score: 51.2924\n",
      "Accuracy score: 83.4246\n",
      "AUC Score: 78.0638\n"
     ]
    }
   ],
   "source": [
    "print(\"-------------------------TEST SCORES-----------------------\") \n",
    "print(f\"Recall: { round(recall_score(y_test, y_pred)*100, 4) }\")\n",
    "print(f\"Precision: { round(precision_score(y_test, y_pred)*100, 4) }\")\n",
    "print(f\"F1-Score: { round(f1_score(y_test, y_pred)*100, 4) }\")\n",
    "print(f\"Accuracy score: { round(accuracy_score(y_test, y_pred)*100, 4) }\")\n",
    "print(f\"AUC Score: { round(roc_auc_score(y_test, y_pred)*100, 4) }\")"
   ]
  },
  {
   "cell_type": "markdown",
   "id": "3f7fa4fd",
   "metadata": {},
   "source": [
    "# IDEAS ABOUT SCORES"
   ]
  },
  {
   "cell_type": "markdown",
   "id": "5111e0e9",
   "metadata": {},
   "source": [
    "We know that in the case of bank loans , \n",
    "recall will reduce the number of false negatives (FN) i.e. the cases where there are chances of default/risk of loss \n",
    "while\n",
    "precision will reduce the number of false positives (FP) i.e. the cases where there are chances of gain/profit\n",
    "So here there is trade off and depends n business stratigy.\n",
    "Here we use F1 score and accuracy as the mesaure of models."
   ]
  },
  {
   "cell_type": "markdown",
   "id": "1925d66e",
   "metadata": {},
   "source": [
    "We see that random forest(gini) has the best scores and is therefore the best model for predictions"
   ]
  }
 ],
 "metadata": {
  "kernelspec": {
   "display_name": "Python 3",
   "language": "python",
   "name": "python3"
  },
  "language_info": {
   "codemirror_mode": {
    "name": "ipython",
    "version": 3
   },
   "file_extension": ".py",
   "mimetype": "text/x-python",
   "name": "python",
   "nbconvert_exporter": "python",
   "pygments_lexer": "ipython3",
   "version": "3.8.8"
  }
 },
 "nbformat": 4,
 "nbformat_minor": 5
}
